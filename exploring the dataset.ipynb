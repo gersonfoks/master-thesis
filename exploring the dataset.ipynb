{
 "cells": [
  {
   "cell_type": "code",
   "execution_count": 1,
   "id": "a0a4eac6",
   "metadata": {},
   "outputs": [],
   "source": [
    "import pandas as pd\n",
    "import ast\n",
    "import numpy as np"
   ]
  },
  {
   "cell_type": "code",
   "execution_count": 2,
   "id": "00af9995",
   "metadata": {},
   "outputs": [],
   "source": [
    "dataset = pd.read_csv('./data/validation-helsinki-tatoeba-scores.csv',\n",
    "                          sep=\"\\t\")"
   ]
  },
  {
   "cell_type": "code",
   "execution_count": 3,
   "id": "bc77f476",
   "metadata": {},
   "outputs": [
    {
     "data": {
      "text/html": [
       "<div>\n",
       "<style scoped>\n",
       "    .dataframe tbody tr th:only-of-type {\n",
       "        vertical-align: middle;\n",
       "    }\n",
       "\n",
       "    .dataframe tbody tr th {\n",
       "        vertical-align: top;\n",
       "    }\n",
       "\n",
       "    .dataframe thead th {\n",
       "        text-align: right;\n",
       "    }\n",
       "</style>\n",
       "<table border=\"1\" class=\"dataframe\">\n",
       "  <thead>\n",
       "    <tr style=\"text-align: right;\">\n",
       "      <th></th>\n",
       "      <th>source</th>\n",
       "      <th>hypothesis</th>\n",
       "      <th>utilities</th>\n",
       "      <th>count</th>\n",
       "    </tr>\n",
       "  </thead>\n",
       "  <tbody>\n",
       "    <tr>\n",
       "      <th>0</th>\n",
       "      <td>Ich spreche überhaupt kein Deutsch.</td>\n",
       "      <td>I can't speak German at all.</td>\n",
       "      <td>{1.0529299: 28, 1.7164959: 51, 0.6175094: 7, 0...</td>\n",
       "      <td>4</td>\n",
       "    </tr>\n",
       "    <tr>\n",
       "      <th>1</th>\n",
       "      <td>Ich spreche überhaupt kein Deutsch.</td>\n",
       "      <td>I cannot speak German at all.</td>\n",
       "      <td>{1.0529299: 28, 1.7164959: 51, 0.6175094: 7, 0...</td>\n",
       "      <td>2</td>\n",
       "    </tr>\n",
       "    <tr>\n",
       "      <th>2</th>\n",
       "      <td>Ich spreche überhaupt kein Deutsch.</td>\n",
       "      <td>I don't speak German at all.</td>\n",
       "      <td>{1.0529299: 28, 1.7164959: 51, 0.6175094: 7, 0...</td>\n",
       "      <td>3</td>\n",
       "    </tr>\n",
       "    <tr>\n",
       "      <th>3</th>\n",
       "      <td>Ich spreche überhaupt kein Deutsch.</td>\n",
       "      <td>I don't know German at all.</td>\n",
       "      <td>{1.0529299: 28, 1.7164959: 51, 0.6175094: 7, 0...</td>\n",
       "      <td>1</td>\n",
       "    </tr>\n",
       "    <tr>\n",
       "      <th>4</th>\n",
       "      <td>Ich war einmal in deinem Alter.</td>\n",
       "      <td>I got your age and father.</td>\n",
       "      <td>{0.059961084: 32, 0.12713991: 10, 0.05761171: ...</td>\n",
       "      <td>1</td>\n",
       "    </tr>\n",
       "  </tbody>\n",
       "</table>\n",
       "</div>"
      ],
      "text/plain": [
       "                                source                     hypothesis  \\\n",
       "0  Ich spreche überhaupt kein Deutsch.   I can't speak German at all.   \n",
       "1  Ich spreche überhaupt kein Deutsch.  I cannot speak German at all.   \n",
       "2  Ich spreche überhaupt kein Deutsch.   I don't speak German at all.   \n",
       "3  Ich spreche überhaupt kein Deutsch.    I don't know German at all.   \n",
       "4      Ich war einmal in deinem Alter.     I got your age and father.   \n",
       "\n",
       "                                           utilities  count  \n",
       "0  {1.0529299: 28, 1.7164959: 51, 0.6175094: 7, 0...      4  \n",
       "1  {1.0529299: 28, 1.7164959: 51, 0.6175094: 7, 0...      2  \n",
       "2  {1.0529299: 28, 1.7164959: 51, 0.6175094: 7, 0...      3  \n",
       "3  {1.0529299: 28, 1.7164959: 51, 0.6175094: 7, 0...      1  \n",
       "4  {0.059961084: 32, 0.12713991: 10, 0.05761171: ...      1  "
      ]
     },
     "execution_count": 3,
     "metadata": {},
     "output_type": "execute_result"
    }
   ],
   "source": [
    "dataset.head()"
   ]
  },
  {
   "cell_type": "code",
   "execution_count": 4,
   "id": "1ff59587",
   "metadata": {},
   "outputs": [],
   "source": [
    "dataset[\"utilities\"] = dataset[\"utilities\"].map(lambda x: ast.literal_eval(x))"
   ]
  },
  {
   "cell_type": "code",
   "execution_count": 5,
   "id": "57f23887",
   "metadata": {},
   "outputs": [
    {
     "name": "stdout",
     "output_type": "stream",
     "text": [
      "Die Deutschen lieben Bier und Würstchen.\n",
      "The Germans like beer and surprising.\n"
     ]
    }
   ],
   "source": [
    "import numpy as np\n",
    "utilities = []\n",
    "\n",
    "for util, c in dataset[\"utilities\"][21].items():\n",
    "    utilities += [util]"
   ]
  },
  {
   "cell_type": "code",
   "execution_count": 28,
   "id": "b9e64692",
   "metadata": {},
   "outputs": [],
   "source": [
    "import numpy as np\n",
    "utilities_repeated = []\n",
    "\n",
    "for util, c in dataset[\"utilities\"][0].items():\n",
    "    utilities_repeated += [util * (c/100)] "
   ]
  },
  {
   "cell_type": "code",
   "execution_count": 29,
   "id": "9c0ed2fd",
   "metadata": {},
   "outputs": [
    {
     "data": {
      "text/plain": [
       "(array([ 2.,  1.,  0.,  1.,  1.,  1.,  0.,  1.,  0.,  0.,  0.,  0.,  0.,\n",
       "         0.,  2.,  2.,  3.,  0.,  1.,  2.,  1.,  2.,  1.,  1.,  3.,  5.,\n",
       "         6.,  6.,  9.,  2., 10.,  9.,  4., 12.,  6., 12.,  6.,  7.,  9.,\n",
       "        12., 13., 15., 14., 15., 16., 15., 17., 14., 21., 20., 21., 19.,\n",
       "        16., 13., 18., 19., 20., 22., 23., 27., 15., 21., 18., 20., 24.,\n",
       "        22., 21., 23., 17., 20., 15., 30., 20., 32., 17., 18., 23., 17.,\n",
       "        15., 13., 12.,  9., 19.,  7.,  7.,  6.,  7.,  4.,  3.,  7.,  6.,\n",
       "         3.,  3.,  2.,  0.,  1.,  0.,  1.,  3.,  1.]),\n",
       " array([-1.1267042 , -1.10599499, -1.08528578, -1.06457657, -1.04386737,\n",
       "        -1.02315816, -1.00244895, -0.98173974, -0.96103053, -0.94032132,\n",
       "        -0.91961211, -0.8989029 , -0.8781937 , -0.85748449, -0.83677528,\n",
       "        -0.81606607, -0.79535686, -0.77464765, -0.75393844, -0.73322923,\n",
       "        -0.71252003, -0.69181082, -0.67110161, -0.6503924 , -0.62968319,\n",
       "        -0.60897398, -0.58826477, -0.56755557, -0.54684636, -0.52613715,\n",
       "        -0.50542794, -0.48471873, -0.46400952, -0.44330031, -0.4225911 ,\n",
       "        -0.4018819 , -0.38117269, -0.36046348, -0.33975427, -0.31904506,\n",
       "        -0.29833585, -0.27762664, -0.25691743, -0.23620823, -0.21549902,\n",
       "        -0.19478981, -0.1740806 , -0.15337139, -0.13266218, -0.11195297,\n",
       "        -0.09124376, -0.07053456, -0.04982535, -0.02911614, -0.00840693,\n",
       "         0.01230228,  0.03301149,  0.0537207 ,  0.0744299 ,  0.09513911,\n",
       "         0.11584832,  0.13655753,  0.15726674,  0.17797595,  0.19868516,\n",
       "         0.21939437,  0.24010357,  0.26081278,  0.28152199,  0.3022312 ,\n",
       "         0.32294041,  0.34364962,  0.36435883,  0.38506804,  0.40577724,\n",
       "         0.42648645,  0.44719566,  0.46790487,  0.48861408,  0.50932329,\n",
       "         0.5300325 ,  0.5507417 ,  0.57145091,  0.59216012,  0.61286933,\n",
       "         0.63357854,  0.65428775,  0.67499696,  0.69570617,  0.71641537,\n",
       "         0.73712458,  0.75783379,  0.778543  ,  0.79925221,  0.81996142,\n",
       "         0.84067063,  0.86137984,  0.88208904,  0.90279825,  0.92350746,\n",
       "         0.94421667]),\n",
       " <BarContainer object of 100 artists>)"
      ]
     },
     "execution_count": 29,
     "metadata": {},
     "output_type": "execute_result"
    },
    {
     "data": {
      "image/png": "[encoded data removed]",
      "text/plain": [
       "<Figure size 432x288 with 1 Axes>"
      ]
     },
     "metadata": {
      "needs_background": "light"
     },
     "output_type": "display_data"
    }
   ],
   "source": [
    "import matplotlib.pyplot as plt\n",
    "plt.hist(utilities, bins=100)"
   ]
  },
  {
   "cell_type": "code",
   "execution_count": null,
   "id": "e040bc0d",
   "metadata": {},
   "outputs": [],
   "source": []
  },
  {
   "cell_type": "code",
   "execution_count": 30,
   "id": "877518ee",
   "metadata": {},
   "outputs": [],
   "source": [
    "from scipy import stats"
   ]
  },
  {
   "cell_type": "code",
   "execution_count": 31,
   "id": "75554733",
   "metadata": {},
   "outputs": [
    {
     "data": {
      "text/plain": [
       "NormaltestResult(statistic=23.77988724499159, pvalue=6.859036194704437e-06)"
      ]
     },
     "execution_count": 31,
     "metadata": {},
     "output_type": "execute_result"
    }
   ],
   "source": [
    "stats.normaltest(utilities)"
   ]
  },
  {
   "cell_type": "code",
   "execution_count": 32,
   "id": "7ffaca2a",
   "metadata": {},
   "outputs": [
    {
     "data": {
      "image/png": "[encoded data removed]",
      "text/plain": [
       "<Figure size 432x288 with 1 Axes>"
      ]
     },
     "metadata": {
      "needs_background": "light"
     },
     "output_type": "display_data"
    }
   ],
   "source": [
    "import matplotlib.pyplot as plt\n",
    "import pylab\n",
    "stats.probplot(utilities, dist=\"norm\", plot=pylab, )\n",
    "plt.title(\"Without repetition\")\n",
    "pylab.show()"
   ]
  },
  {
   "cell_type": "code",
   "execution_count": 33,
   "id": "2eecf71a",
   "metadata": {},
   "outputs": [
    {
     "data": {
      "image/png": "[encoded data removed]",
      "text/plain": [
       "<Figure size 432x288 with 1 Axes>"
      ]
     },
     "metadata": {
      "needs_background": "light"
     },
     "output_type": "display_data"
    }
   ],
   "source": [
    "import matplotlib.pyplot as plt\n",
    "import pylab\n",
    "stats.probplot(utilities_repeated, dist=\"norm\", plot=pylab, )\n",
    "plt.title(\"With repetition\")\n",
    "pylab.show()"
   ]
  },
  {
   "cell_type": "code",
   "execution_count": 34,
   "id": "71187f51",
   "metadata": {},
   "outputs": [
    {
     "data": {
      "text/plain": [
       "NormaltestResult(statistic=43.19052453186559, pvalue=4.181159765890981e-10)"
      ]
     },
     "execution_count": 34,
     "metadata": {},
     "output_type": "execute_result"
    }
   ],
   "source": [
    "stats.normaltest(utilities_repeated)"
   ]
  },
  {
   "cell_type": "code",
   "execution_count": null,
   "id": "dc2a87de",
   "metadata": {},
   "outputs": [],
   "source": []
  }
 ],
 "metadata": {
  "kernelspec": {
   "display_name": "Python 3 (ipykernel)",
   "language": "python",
   "name": "python3"
  },
  "language_info": {
   "codemirror_mode": {
    "name": "ipython",
    "version": 3
   },
   "file_extension": ".py",
   "mimetype": "text/x-python",
   "name": "python",
   "nbconvert_exporter": "python",
   "pygments_lexer": "ipython3",
   "version": "3.9.7"
  }
 },
 "nbformat": 4,
 "nbformat_minor": 5
}
