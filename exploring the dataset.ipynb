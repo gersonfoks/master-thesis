{
 "cells": [
  {
   "cell_type": "code",
   "execution_count": 6,
   "id": "a0a4eac6",
   "metadata": {},
   "outputs": [],
   "source": [
    "import pandas as pd\n",
    "import ast\n",
    "import numpy as np"
   ]
  },
  {
   "cell_type": "code",
   "execution_count": 2,
   "id": "00af9995",
   "metadata": {},
   "outputs": [],
   "source": [
    "dataset = pd.read_csv('./data/train_predictive_helsinki-tatoeba-de-en_1000_bayes_risk.csv',\n",
    "                          sep=\"\\t\")"
   ]
  },
  {
   "cell_type": "code",
   "execution_count": 3,
   "id": "bc77f476",
   "metadata": {},
   "outputs": [
    {
     "data": {
      "text/html": [
       "<div>\n",
       "<style scoped>\n",
       "    .dataframe tbody tr th:only-of-type {\n",
       "        vertical-align: middle;\n",
       "    }\n",
       "\n",
       "    .dataframe tbody tr th {\n",
       "        vertical-align: top;\n",
       "    }\n",
       "\n",
       "    .dataframe thead th {\n",
       "        text-align: right;\n",
       "    }\n",
       "</style>\n",
       "<table border=\"1\" class=\"dataframe\">\n",
       "  <thead>\n",
       "    <tr style=\"text-align: right;\">\n",
       "      <th></th>\n",
       "      <th>source</th>\n",
       "      <th>hypothesis</th>\n",
       "      <th>utilities</th>\n",
       "    </tr>\n",
       "  </thead>\n",
       "  <tbody>\n",
       "    <tr>\n",
       "      <th>0</th>\n",
       "      <td>Ich habe dich nicht hereinkommen gehört.</td>\n",
       "      <td>I didn't hear you get in here.</td>\n",
       "      <td>[0.7166329941898584, 0.7446832459792495, 0.738...</td>\n",
       "    </tr>\n",
       "    <tr>\n",
       "      <th>1</th>\n",
       "      <td>Ich habe dich nicht hereinkommen gehört.</td>\n",
       "      <td>I did not hear you come in.</td>\n",
       "      <td>[0.7503145945072176, 0.7072321363864467, 0.759...</td>\n",
       "    </tr>\n",
       "    <tr>\n",
       "      <th>2</th>\n",
       "      <td>Ich habe dich nicht hereinkommen gehört.</td>\n",
       "      <td>I didn't hear you come in.</td>\n",
       "      <td>[1.3009668429195878, 1.2641713055968282, 1.305...</td>\n",
       "    </tr>\n",
       "    <tr>\n",
       "      <th>3</th>\n",
       "      <td>Ich habe dich nicht hereinkommen gehört.</td>\n",
       "      <td>I didn't hear you come in here.</td>\n",
       "      <td>[0.8907077127695083, 0.9086629176884891, 0.912...</td>\n",
       "    </tr>\n",
       "    <tr>\n",
       "      <th>4</th>\n",
       "      <td>Ich habe dich nicht hereinkommen gehört.</td>\n",
       "      <td>I didn't hear you come inside.</td>\n",
       "      <td>[0.8156890257820487, 0.808656771928072, 0.8105...</td>\n",
       "    </tr>\n",
       "  </tbody>\n",
       "</table>\n",
       "</div>"
      ],
      "text/plain": [
       "                                     source                       hypothesis  \\\n",
       "0  Ich habe dich nicht hereinkommen gehört.   I didn't hear you get in here.   \n",
       "1  Ich habe dich nicht hereinkommen gehört.      I did not hear you come in.   \n",
       "2  Ich habe dich nicht hereinkommen gehört.       I didn't hear you come in.   \n",
       "3  Ich habe dich nicht hereinkommen gehört.  I didn't hear you come in here.   \n",
       "4  Ich habe dich nicht hereinkommen gehört.   I didn't hear you come inside.   \n",
       "\n",
       "                                           utilities  \n",
       "0  [0.7166329941898584, 0.7446832459792495, 0.738...  \n",
       "1  [0.7503145945072176, 0.7072321363864467, 0.759...  \n",
       "2  [1.3009668429195878, 1.2641713055968282, 1.305...  \n",
       "3  [0.8907077127695083, 0.9086629176884891, 0.912...  \n",
       "4  [0.8156890257820487, 0.808656771928072, 0.8105...  "
      ]
     },
     "execution_count": 3,
     "metadata": {},
     "output_type": "execute_result"
    }
   ],
   "source": [
    "dataset.head()"
   ]
  },
  {
   "cell_type": "code",
   "execution_count": 8,
   "id": "1ff59587",
   "metadata": {},
   "outputs": [],
   "source": [
    "dataset[\"avg\"] = dataset[\"utilities\"].map(lambda x: np.mean(ast.literal_eval(x)))"
   ]
  },
  {
   "cell_type": "code",
   "execution_count": 9,
   "id": "57f23887",
   "metadata": {},
   "outputs": [],
   "source": [
    "dataset[\"std\"] = dataset[\"utilities\"].map(lambda x: np.std(ast.literal_eval(x)))"
   ]
  },
  {
   "cell_type": "code",
   "execution_count": 11,
   "id": "9c0ed2fd",
   "metadata": {},
   "outputs": [
    {
     "data": {
      "text/plain": [
       "(array([1.000e+00, 0.000e+00, 2.000e+00, 3.000e+00, 4.000e+00, 4.000e+00,\n",
       "        8.000e+00, 3.100e+01, 3.900e+01, 6.600e+01, 1.400e+02, 2.040e+02,\n",
       "        3.690e+02, 5.540e+02, 7.780e+02, 1.090e+03, 1.389e+03, 1.695e+03,\n",
       "        1.938e+03, 2.249e+03, 2.394e+03, 2.559e+03, 2.916e+03, 3.131e+03,\n",
       "        3.230e+03, 3.556e+03, 3.599e+03, 3.668e+03, 3.941e+03, 4.252e+03,\n",
       "        4.533e+03, 4.764e+03, 5.281e+03, 5.600e+03, 5.742e+03, 5.787e+03,\n",
       "        5.701e+03, 5.104e+03, 4.318e+03, 3.399e+03, 2.432e+03, 1.966e+03,\n",
       "        1.613e+03, 1.441e+03, 9.810e+02, 5.940e+02, 2.340e+02, 8.500e+01,\n",
       "        1.400e+01, 1.000e+00]),\n",
       " array([-2.20491045, -2.11648925, -2.02806805, -1.93964685, -1.85122565,\n",
       "        -1.76280445, -1.67438325, -1.58596205, -1.49754085, -1.40911965,\n",
       "        -1.32069845, -1.23227725, -1.14385605, -1.05543485, -0.96701365,\n",
       "        -0.87859245, -0.79017125, -0.70175005, -0.61332885, -0.52490765,\n",
       "        -0.43648644, -0.34806524, -0.25964404, -0.17122284, -0.08280164,\n",
       "         0.00561956,  0.09404076,  0.18246196,  0.27088316,  0.35930436,\n",
       "         0.44772556,  0.53614676,  0.62456796,  0.71298916,  0.80141036,\n",
       "         0.88983156,  0.97825276,  1.06667396,  1.15509516,  1.24351636,\n",
       "         1.33193756,  1.42035876,  1.50877996,  1.59720117,  1.68562237,\n",
       "         1.77404357,  1.86246477,  1.95088597,  2.03930717,  2.12772837,\n",
       "         2.21614957]),\n",
       " <BarContainer object of 50 artists>)"
      ]
     },
     "execution_count": 11,
     "metadata": {},
     "output_type": "execute_result"
    },
    {
     "data": {
      "image/png": "[encoded data removed]",
      "text/plain": [
       "<Figure size 432x288 with 1 Axes>"
      ]
     },
     "metadata": {
      "needs_background": "light"
     },
     "output_type": "display_data"
    }
   ],
   "source": [
    "import matplotlib.pyplot as plt\n",
    "plt.hist(dataset[\"avg\"], bins=50)"
   ]
  },
  {
   "cell_type": "code",
   "execution_count": 12,
   "id": "e040bc0d",
   "metadata": {},
   "outputs": [
    {
     "data": {
      "text/plain": [
       "(array([2.6200e+02, 2.8450e+03, 5.5640e+03, 7.3590e+03, 9.1440e+03,\n",
       "        1.0469e+04, 1.0865e+04, 9.9870e+03, 8.7620e+03, 7.3100e+03,\n",
       "        6.0520e+03, 4.8540e+03, 4.0670e+03, 3.2470e+03, 2.6240e+03,\n",
       "        2.0510e+03, 1.7150e+03, 1.2650e+03, 1.0440e+03, 8.4100e+02,\n",
       "        6.7100e+02, 5.1000e+02, 3.9200e+02, 3.5100e+02, 2.3500e+02,\n",
       "        2.1300e+02, 1.6000e+02, 1.2000e+02, 1.0200e+02, 8.4000e+01,\n",
       "        5.4000e+01, 4.0000e+01, 3.4000e+01, 1.8000e+01, 1.9000e+01,\n",
       "        2.2000e+01, 1.1000e+01, 1.3000e+01, 6.0000e+00, 3.0000e+00,\n",
       "        4.0000e+00, 2.0000e+00, 1.0000e+00, 2.0000e+00, 3.0000e+00,\n",
       "        0.0000e+00, 1.0000e+00, 0.0000e+00, 1.0000e+00, 1.0000e+00]),\n",
       " array([0.        , 0.00310599, 0.00621199, 0.00931798, 0.01242397,\n",
       "        0.01552997, 0.01863596, 0.02174195, 0.02484795, 0.02795394,\n",
       "        0.03105993, 0.03416593, 0.03727192, 0.04037791, 0.04348391,\n",
       "        0.0465899 , 0.04969589, 0.05280189, 0.05590788, 0.05901388,\n",
       "        0.06211987, 0.06522586, 0.06833186, 0.07143785, 0.07454384,\n",
       "        0.07764984, 0.08075583, 0.08386182, 0.08696782, 0.09007381,\n",
       "        0.0931798 , 0.0962858 , 0.09939179, 0.10249778, 0.10560378,\n",
       "        0.10870977, 0.11181576, 0.11492176, 0.11802775, 0.12113374,\n",
       "        0.12423974, 0.12734573, 0.13045172, 0.13355772, 0.13666371,\n",
       "        0.1397697 , 0.1428757 , 0.14598169, 0.14908768, 0.15219368,\n",
       "        0.15529967]),\n",
       " <BarContainer object of 50 artists>)"
      ]
     },
     "execution_count": 12,
     "metadata": {},
     "output_type": "execute_result"
    },
    {
     "data": {
      "image/png": "[encoded data removed]",
      "text/plain": [
       "<Figure size 432x288 with 1 Axes>"
      ]
     },
     "metadata": {
      "needs_background": "light"
     },
     "output_type": "display_data"
    }
   ],
   "source": [
    "plt.hist(dataset[\"std\"], bins=50)"
   ]
  },
  {
   "cell_type": "code",
   "execution_count": null,
   "id": "877518ee",
   "metadata": {},
   "outputs": [],
   "source": []
  }
 ],
 "metadata": {
  "kernelspec": {
   "display_name": "Python 3 (ipykernel)",
   "language": "python",
   "name": "python3"
  },
  "language_info": {
   "codemirror_mode": {
    "name": "ipython",
    "version": 3
   },
   "file_extension": ".py",
   "mimetype": "text/x-python",
   "name": "python",
   "nbconvert_exporter": "python",
   "pygments_lexer": "ipython3",
   "version": "3.9.7"
  }
 },
 "nbformat": 4,
 "nbformat_minor": 5
}
