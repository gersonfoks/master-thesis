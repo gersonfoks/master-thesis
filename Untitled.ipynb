{
 "cells": [
  {
   "cell_type": "code",
   "execution_count": 1,
   "id": "7be91199",
   "metadata": {},
   "outputs": [],
   "source": [
    "import pandas as pd"
   ]
  },
  {
   "cell_type": "code",
   "execution_count": 9,
   "id": "aa1d6580",
   "metadata": {},
   "outputs": [
    {
     "name": "stderr",
     "output_type": "stream",
     "text": [
      "C:\\Users\\gerso\\anaconda3\\envs\\thesis\\lib\\site-packages\\IPython\\core\\interactiveshell.py:3444: DtypeWarning: Columns (4) have mixed types.Specify dtype option on import or set low_memory=False.\n",
      "  exec(code_obj, self.user_global_ns, self.user_ns)\n"
     ]
    }
   ],
   "source": [
    "df = pd.read_csv('./data/europarl-v10.de-en.pair.tsv', sep=\"\\t\", on_bad_lines='skip',header=None, )"
   ]
  },
  {
   "cell_type": "code",
   "execution_count": 10,
   "id": "9d4936cd",
   "metadata": {},
   "outputs": [
    {
     "data": {
      "text/html": [
       "<div>\n",
       "<style scoped>\n",
       "    .dataframe tbody tr th:only-of-type {\n",
       "        vertical-align: middle;\n",
       "    }\n",
       "\n",
       "    .dataframe tbody tr th {\n",
       "        vertical-align: top;\n",
       "    }\n",
       "\n",
       "    .dataframe thead th {\n",
       "        text-align: right;\n",
       "    }\n",
       "</style>\n",
       "<table border=\"1\" class=\"dataframe\">\n",
       "  <thead>\n",
       "    <tr style=\"text-align: right;\">\n",
       "      <th></th>\n",
       "      <th>0</th>\n",
       "      <th>1</th>\n",
       "      <th>2</th>\n",
       "      <th>3</th>\n",
       "      <th>4</th>\n",
       "      <th>5</th>\n",
       "      <th>6</th>\n",
       "      <th>7</th>\n",
       "    </tr>\n",
       "  </thead>\n",
       "  <tbody>\n",
       "    <tr>\n",
       "      <th>0</th>\n",
       "      <td>4. Ratifizierung und Umsetzung der aktualisier...</td>\n",
       "      <td>4. The ratification and implementation of the ...</td>\n",
       "      <td>ep-09-11-26-008-04.txt</td>\n",
       "      <td>008-04</td>\n",
       "      <td>NaN</td>\n",
       "      <td>NaN</td>\n",
       "      <td>NaN</td>\n",
       "      <td>NaN</td>\n",
       "    </tr>\n",
       "    <tr>\n",
       "      <th>1</th>\n",
       "      <td>7. Nachhaltige Landwirtschaft und Biogas: notw...</td>\n",
       "      <td>7. Sustainable agriculture and biogas: review ...</td>\n",
       "      <td>ep-08-03-12-005-07.txt</td>\n",
       "      <td>005-07</td>\n",
       "      <td>NaN</td>\n",
       "      <td>NaN</td>\n",
       "      <td>NaN</td>\n",
       "      <td>NaN</td>\n",
       "    </tr>\n",
       "    <tr>\n",
       "      <th>2</th>\n",
       "      <td>- Vor der Abstimmung über Ziffer 41</td>\n",
       "      <td>- Before the vote on paragraph 41:</td>\n",
       "      <td>ep-08-03-12-005-07.txt</td>\n",
       "      <td>005-07</td>\n",
       "      <td>NaN</td>\n",
       "      <td>NaN</td>\n",
       "      <td>NaN</td>\n",
       "      <td>NaN</td>\n",
       "    </tr>\n",
       "    <tr>\n",
       "      <th>3</th>\n",
       "      <td>Berichterstatter. - (EN) Herr Präsident! Wir w...</td>\n",
       "      <td>rapporteur. - Mr President, we agreed to chang...</td>\n",
       "      <td>ep-08-03-12-005-07.txt</td>\n",
       "      <td>005-07</td>\n",
       "      <td>101.0</td>\n",
       "      <td>Csaba Sándor Tabajdi</td>\n",
       "      <td>NaN</td>\n",
       "      <td>NaN</td>\n",
       "    </tr>\n",
       "    <tr>\n",
       "      <th>4</th>\n",
       "      <td>Der Text lautet wie folgt: \"Schlägt die vollst...</td>\n",
       "      <td>The text is as follows: 'Proposes the comprehe...</td>\n",
       "      <td>ep-08-03-12-005-07.txt</td>\n",
       "      <td>005-07</td>\n",
       "      <td>101.0</td>\n",
       "      <td>Csaba Sándor Tabajdi</td>\n",
       "      <td>NaN</td>\n",
       "      <td>NaN</td>\n",
       "    </tr>\n",
       "  </tbody>\n",
       "</table>\n",
       "</div>"
      ],
      "text/plain": [
       "                                                   0  \\\n",
       "0  4. Ratifizierung und Umsetzung der aktualisier...   \n",
       "1  7. Nachhaltige Landwirtschaft und Biogas: notw...   \n",
       "2                - Vor der Abstimmung über Ziffer 41   \n",
       "3  Berichterstatter. - (EN) Herr Präsident! Wir w...   \n",
       "4  Der Text lautet wie folgt: \"Schlägt die vollst...   \n",
       "\n",
       "                                                   1                       2  \\\n",
       "0  4. The ratification and implementation of the ...  ep-09-11-26-008-04.txt   \n",
       "1  7. Sustainable agriculture and biogas: review ...  ep-08-03-12-005-07.txt   \n",
       "2                 - Before the vote on paragraph 41:  ep-08-03-12-005-07.txt   \n",
       "3  rapporteur. - Mr President, we agreed to chang...  ep-08-03-12-005-07.txt   \n",
       "4  The text is as follows: 'Proposes the comprehe...  ep-08-03-12-005-07.txt   \n",
       "\n",
       "        3      4                     5    6    7  \n",
       "0  008-04    NaN                   NaN  NaN  NaN  \n",
       "1  005-07    NaN                   NaN  NaN  NaN  \n",
       "2  005-07    NaN                   NaN  NaN  NaN  \n",
       "3  005-07  101.0  Csaba Sándor Tabajdi  NaN  NaN  \n",
       "4  005-07  101.0  Csaba Sándor Tabajdi  NaN  NaN  "
      ]
     },
     "execution_count": 10,
     "metadata": {},
     "output_type": "execute_result"
    }
   ],
   "source": [
    "df.head()"
   ]
  },
  {
   "cell_type": "code",
   "execution_count": null,
   "id": "1d56a270",
   "metadata": {},
   "outputs": [],
   "source": []
  }
 ],
 "metadata": {
  "kernelspec": {
   "display_name": "Python 3 (ipykernel)",
   "language": "python",
   "name": "python3"
  },
  "language_info": {
   "codemirror_mode": {
    "name": "ipython",
    "version": 3
   },
   "file_extension": ".py",
   "mimetype": "text/x-python",
   "name": "python",
   "nbconvert_exporter": "python",
   "pygments_lexer": "ipython3",
   "version": "3.9.7"
  }
 },
 "nbformat": 4,
 "nbformat_minor": 5
}
