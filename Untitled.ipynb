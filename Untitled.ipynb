{
 "cells": [
  {
   "cell_type": "code",
   "execution_count": 1,
   "id": "793d261a",
   "metadata": {},
   "outputs": [],
   "source": [
    "import pandas as pd\n",
    "import ast"
   ]
  },
  {
   "cell_type": "code",
   "execution_count": 2,
   "id": "654a2d4b",
   "metadata": {},
   "outputs": [],
   "source": [
    "from pandas import RangeIndex"
   ]
  },
  {
   "cell_type": "code",
   "execution_count": 3,
   "id": "72878a00",
   "metadata": {},
   "outputs": [],
   "source": [
    "from datasets import Dataset"
   ]
  },
  {
   "cell_type": "code",
   "execution_count": 4,
   "id": "4cd37b3c",
   "metadata": {},
   "outputs": [],
   "source": [
    "import argparse\n",
    "import pytorch_lightning as pl\n",
    "from torch.utils.data import DataLoader\n",
    "\n",
    "\n",
    "from utils.dataset_utils import get_predictive_collate_fn\n",
    "from utils.parsing.predictive import parse_predictive_config\n",
    "\n",
    "config = './trained_models/predictive/tatoeba-de-en-predictive.yml'\n",
    "parsed_config = parse_predictive_config(config, pretrained=False, develop=True)\n",
    "nmt_model = parsed_config[\"nmt_model\"]\n",
    "pl_model = parsed_config[\"pl_model\"]\n",
    "tokenizer = parsed_config[\"tokenizer\"]\n",
    "train_dataset = parsed_config[\"train_dataset\"]\n",
    "val_dataset = parsed_config[\"validation_dataset\"]"
   ]
  },
  {
   "cell_type": "code",
   "execution_count": 5,
   "id": "85ffd0ce",
   "metadata": {},
   "outputs": [],
   "source": [
    "from custom_datasets import BayesRiskDataset"
   ]
  },
  {
   "cell_type": "code",
   "execution_count": 184,
   "id": "c6746eba",
   "metadata": {},
   "outputs": [],
   "source": [
    "base_dir = './trained_models/NMT/tatoeba-de-en/data/'\n",
    "\n",
    "dataset = BayesRiskDataset.load_dataset(base_dir, develop=True)\n"
   ]
  },
  {
   "cell_type": "code",
   "execution_count": 185,
   "id": "60616b4e",
   "metadata": {},
   "outputs": [],
   "source": [
    "# import pyarrow as pa\n",
    "# def preprocess_f(batch):\n",
    "#     features = pl_model.preprocess_function(batch)\n",
    "#     print(features[\"avg_pool_encoder_hidden_state\"].dtype)\n",
    "    \n",
    "#     features = {key: pa.array(v) for v in features.items()}\n",
    "#     return features"
   ]
  },
  {
   "cell_type": "code",
   "execution_count": 186,
   "id": "fb23f261",
   "metadata": {},
   "outputs": [
    {
     "data": {
      "application/vnd.jupyter.widget-view+json": {
       "model_id": "70b8a04c7e5e430789b508f6d74d01a6",
       "version_major": 2,
       "version_minor": 0
      },
      "text/plain": [
       "  0%|          | 0/20 [00:00<?, ?ba/s]"
      ]
     },
     "metadata": {},
     "output_type": "display_data"
    }
   ],
   "source": [
    "dataset = dataset.map(pl_model.preprocess_function, batched=True, batch_size=32)"
   ]
  },
  {
   "cell_type": "code",
   "execution_count": null,
   "id": "c4cc54c1",
   "metadata": {},
   "outputs": [],
   "source": [
    "dataset.data.table"
   ]
  },
  {
   "cell_type": "code",
   "execution_count": 169,
   "id": "9da21d65",
   "metadata": {},
   "outputs": [],
   "source": [
    "# Save the model\n",
    "import pyarrow.parquet as pq\n",
    "    \n",
    "pq.write_table(dataset.data.table, \"test.parquet\")"
   ]
  },
  {
   "cell_type": "code",
   "execution_count": 170,
   "id": "0ab39687",
   "metadata": {},
   "outputs": [],
   "source": [
    "ref_table = pq.read_table(\"test.parquet\")"
   ]
  },
  {
   "cell_type": "code",
   "execution_count": 171,
   "id": "ed145a89",
   "metadata": {},
   "outputs": [
    {
     "data": {
      "text/plain": [
       "pyarrow.Table\n",
       "sources: string\n",
       "hypothesis: string\n",
       "utilities: string\n",
       "count: int64\n",
       "avg_pool_encoder_hidden_state: list<item: float>\n",
       "  child 0, item: float\n",
       "avg_pool_decoder_hidden_state: list<item: float>\n",
       "  child 0, item: float\n",
       "max_pool_encoder_hidden_state: list<item: float>\n",
       "  child 0, item: float\n",
       "max_pool_decoder_hidden_state: list<item: float>\n",
       "  child 0, item: float\n",
       "----\n",
       "sources: [[\"Ich habe dich nicht hereinkommen gehört.\",\"Ich habe dich nicht hereinkommen gehört.\",\"Du wirst Tom küssen müssen.\",\"Du wirst Tom küssen müssen.\",\"Wir werden am nächsten Samstag eine Party machen.\"]]\n",
       "hypothesis: [[\"I didn't hear you come in.\",\"I didn't hear you coming in.\",\"You're going to have to kiss Tom.\",\"You'll have to kiss Tom.\",\"We will have a party next Saturday.\"]]\n",
       "utilities: [[\"{1.4914770126342773: 72, 0.7293738126754761: 11, 1.0108041763305664: 9, 0.7235156893730164: 4, 0.0017659920267760754: 1, 0.713856041431427: 1, 0.5867420434951782: 1, 0.21969538927078247: 1}\",\"{1.1027610301971436: 72, 0.7423466444015503: 11, 1.5049712657928467: 9, 0.718002200126648: 4, 0.014844218268990517: 1, 0.5178391337394714: 1, 0.695504367351532: 1, 0.3941666781902313: 1}\",\"{1.2337590456008911: 4, 1.6685523986816406: 76, 0.6732169985771179: 16, 0.4754067659378052: 3, 0.6540873646736145: 1}\",\"{0.47203171253204346: 4, 0.6251766085624695: 76, 1.6091865301132202: 16, 0.8148722648620605: 3, 0.2869987487792969: 1}\",\"{0.5770808458328247: 1, 1.205398440361023: 16, 0.4867725372314453: 2, -0.13309699296951294: 1, 0.6721537113189697: 1, 0.9632865190505981: 4, 1.7516887187957764: 17, 0.538731575012207: 3, 0.5868366956710815: 1, 0.8651071786880493: 8, 0.8406725525856018: 1, 0.9985296726226807: 1, 0.6638028621673584: 2, 0.2857931852340698: 1, 0.9928613305091858: 1, 1.0429902076721191: 2, 0.909343421459198: 1, 0.86782306432724: 1, 0.9591071605682373: 1, 0.9648306965827942: 1, 1.244722604751587: 4, 0.9503077268600464: 1, 1.1467968225479126: 1, 0.6416265368461609: 1, 1.0004682540893555: 1, 0.9726136326789856: 2, 0.7849052548408508: 1, 0.6562929749488831: 1, 0.5287139415740967: 1, 1.173403263092041: 3, 0.5992879867553711: 1, 0.6819982528686523: 1, 0.6059547066688538: 1, 0.6916996836662292: 1, 0.7405977845191956: 1, 0.4153054356575012: 1, 0.6439706087112427: 1, 1.0778203010559082: 1, 0.8037590980529785: 1, 1.0167171955108643: 1, 0.6023456454277039: 1, 0.8749701380729675: 1, 0.8985453248023987: 1, 0.6325135827064514: 1, 0.6078120470046997: 1, 0.7544364929199219: 1, 0.5979130268096924: 1, 1.0160185098648071: 1}\"]]\n",
       "count: [[9,1,6,2,2]]\n",
       "avg_pool_encoder_hidden_state: [[[0.032358438,-0.0010111862,0.08629698,0.072692476,-0.0005832248,0.0747479,0.04883207,0.109176636,0.017059963,0.15352574,...,-0.05150914,-0.22946866,-0.106608115,0.03573289,0.054965954,-0.007973452,0.056016404,0.042904675,0.057321448,0.098834775],[0.032358438,-0.0010111862,0.08629698,0.072692476,-0.0005832248,0.0747479,0.04883207,0.109176636,0.017059963,0.15352574,...,-0.05150914,-0.22946866,-0.106608115,0.03573289,0.054965954,-0.007973452,0.056016404,0.042904675,0.057321448,0.098834775],[-0.10288497,0.052685447,0.07313372,-0.15538462,0.074031055,0.059141196,-0.100139625,-0.17891243,0.001421375,-0.22685961,...,0.07428814,0.23484007,0.029233748,-0.08488924,-0.027347067,-0.009120817,0.07130815,-0.13811335,0.07003231,0.045128144],[-0.10288497,0.052685447,0.07313372,-0.15538462,0.074031055,0.059141196,-0.100139625,-0.17891243,0.001421375,-0.22685961,...,0.07428814,0.23484007,0.029233748,-0.08488924,-0.027347067,-0.009120817,0.07130815,-0.13811335,0.07003231,0.045128144],[-0.012276048,-0.0012092948,0.12531608,-0.14132671,0.14260349,-0.043974668,-0.15289453,0.06796007,0.08671169,-0.13330495,...,0.09311549,0.110336825,0.077350035,-0.073032774,-0.04078085,-0.05163219,0.060309745,-0.033536613,-0.19114046,-0.037748974]]]\n",
       "avg_pool_decoder_hidden_state: [[[-1.8149002,1.9458603,-0.19065794,-1.9499128,-0.39392194,0.07461394,-0.72237235,0.500289,-1.4239134,2.0007548,...,0.17342049,1.4704845,1.216876,-1.3509961,-2.0726893,2.7427878,0.34637088,2.3097267,1.2454008,0.44368687],[-1.758331,1.9510654,-0.14463238,-2.0704217,-0.4654522,0.079261705,-0.6315583,0.358714,-1.343363,2.052397,...,0.2390792,1.6050974,1.441156,-1.3092997,-2.1307082,2.7701719,0.44846326,2.407493,1.2037004,0.41822872],[-1.7152141,-0.8202126,1.6604863,-0.35464266,-0.6095976,2.538043,2.003309,0.36938018,0.03166331,-1.2967033,...,-0.86575216,0.5430944,-1.5302924,-1.1992618,2.7521627,-2.7415392,-0.46754217,-0.5636337,1.7022004,-1.3123072],[-1.8767858,-0.027780227,1.3204204,-0.54944503,0.33355448,2.9909496,1.6976167,0.703157,0.42826703,-1.7610856,...,-1.4549766,0.5909571,-1.9266973,-1.0905762,1.9322221,-2.718935,0.16537288,-0.5630798,2.1003222,-0.5619993],[-0.30008507,2.4262228,-0.89671665,0.003266414,-0.5239187,0.7338423,0.9499276,-0.17838357,-0.06553277,-0.22646157,...,-0.3810097,1.8830168,1.0464643,-0.16828653,3.5399601,-0.050780907,0.3967176,-0.20342843,0.580876,-0.07381577]]]\n",
       "max_pool_encoder_hidden_state: [[[0.69720775,0.34060168,0.3735742,0.4799872,0.43752182,0.51930296,0.33596617,0.5019164,0.23958682,0.85709614,...,0.18717329,0.29007754,0.11122944,0.65284634,0.49201676,0.15761222,0.71644914,0.3198489,0.32251447,0.32935634],[0.69720775,0.34060168,0.3735742,0.4799872,0.43752182,0.51930296,0.33596617,0.5019164,0.23958682,0.85709614,...,0.18717329,0.29007754,0.11122944,0.65284634,0.49201676,0.15761222,0.71644914,0.3198489,0.32251447,0.32935634],[0.31961587,0.29960904,0.4936421,0.061276685,0.49099952,0.36014873,0.29491127,0.02704428,0.59321153,0.06480498,...,0.37042004,0.680287,0.24260597,0.2487452,0.2918523,0.24610242,0.52768767,-0.011862776,0.601056,0.27642483],[0.31961587,0.29960904,0.4936421,0.061276685,0.49099952,0.36014873,0.29491127,0.02704428,0.59321153,0.06480498,...,0.37042004,0.680287,0.24260597,0.2487452,0.2918523,0.24610242,0.52768767,-0.011862776,0.601056,0.27642483],[0.7021421,0.6364751,0.6303948,0.24616127,0.66796255,0.41801286,0.3264541,0.78948647,0.5378675,0.08373993,...,0.3743644,0.80440784,0.39389306,0.39251485,0.29990497,0.13428533,0.35252172,0.2543825,0.20388399,0.38490438]]]\n",
       "max_pool_decoder_hidden_state: [[[-1.8149002,1.9458603,-0.19065794,-1.9499128,-0.39392194,0.07461394,-0.72237235,0.500289,-1.4239134,2.0007548,...,0.17342049,1.4704845,1.216876,-1.3509961,-2.0726893,2.7427878,0.34637088,2.3097267,1.2454008,0.44368687],[-1.758331,1.9510654,-0.14463238,-2.0704217,-0.4654522,0.079261705,-0.6315583,0.358714,-1.343363,2.052397,...,0.2390792,1.6050974,1.441156,-1.3092997,-2.1307082,2.7701719,0.44846326,2.407493,1.2037004,0.41822872],[-1.7152141,-0.8202126,1.6604863,-0.35464266,-0.6095976,2.538043,2.003309,0.36938018,0.03166331,-1.2967033,...,-0.86575216,0.5430944,-1.5302924,-1.1992618,2.7521627,-2.7415392,-0.46754217,-0.5636337,1.7022004,-1.3123072],[-1.8767858,-0.027780227,1.3204204,-0.54944503,0.33355448,2.9909496,1.6976167,0.703157,0.42826703,-1.7610856,...,-1.4549766,0.5909571,-1.9266973,-1.0905762,1.9322221,-2.718935,0.16537288,-0.5630798,2.1003222,-0.5619993],[-0.30008507,2.4262228,-0.89671665,0.003266414,-0.5239187,0.7338423,0.9499276,-0.17838357,-0.06553277,-0.22646157,...,-0.3810097,1.8830168,1.0464643,-0.16828653,3.5399601,-0.050780907,0.3967176,-0.20342843,0.580876,-0.07381577]]]"
      ]
     },
     "execution_count": 171,
     "metadata": {},
     "output_type": "execute_result"
    }
   ],
   "source": [
    "# From this table we can take all the relevant features\n",
    "ref_table.take([0,1,2,3,100])"
   ]
  },
  {
   "cell_type": "code",
   "execution_count": 172,
   "id": "21a62bc5",
   "metadata": {},
   "outputs": [],
   "source": [
    "# Make a reference dataset\n",
    "no_features_dataset = dataset.remove_columns(pl_model.feature_names + [\"sources\", ]) # also drop hypothesis later (but we keep it now for testing)"
   ]
  },
  {
   "cell_type": "code",
   "execution_count": 173,
   "id": "16abcbc4",
   "metadata": {},
   "outputs": [],
   "source": [
    "df = no_features_dataset.to_pandas()"
   ]
  },
  {
   "cell_type": "code",
   "execution_count": 174,
   "id": "c47cdca0",
   "metadata": {},
   "outputs": [],
   "source": [
    "# Keep track of the index\n",
    "df['ref_id'] = RangeIndex(start=0, stop=df.index.stop, step=1)\n"
   ]
  },
  {
   "cell_type": "code",
   "execution_count": 175,
   "id": "4966fa22",
   "metadata": {},
   "outputs": [],
   "source": [
    "# Repeat the count\n",
    "df = df.reindex(df.index.repeat(df[\"count\"]))"
   ]
  },
  {
   "cell_type": "code",
   "execution_count": 176,
   "id": "356b2bc0",
   "metadata": {},
   "outputs": [],
   "source": [
    "df = df.reset_index(level=0, inplace=False, drop=True)"
   ]
  },
  {
   "cell_type": "code",
   "execution_count": 177,
   "id": "48b09fcd",
   "metadata": {},
   "outputs": [
    {
     "data": {
      "text/html": [
       "<div>\n",
       "<style scoped>\n",
       "    .dataframe tbody tr th:only-of-type {\n",
       "        vertical-align: middle;\n",
       "    }\n",
       "\n",
       "    .dataframe tbody tr th {\n",
       "        vertical-align: top;\n",
       "    }\n",
       "\n",
       "    .dataframe thead th {\n",
       "        text-align: right;\n",
       "    }\n",
       "</style>\n",
       "<table border=\"1\" class=\"dataframe\">\n",
       "  <thead>\n",
       "    <tr style=\"text-align: right;\">\n",
       "      <th></th>\n",
       "      <th>hypothesis</th>\n",
       "      <th>utilities</th>\n",
       "      <th>count</th>\n",
       "      <th>ref_id</th>\n",
       "    </tr>\n",
       "  </thead>\n",
       "  <tbody>\n",
       "    <tr>\n",
       "      <th>0</th>\n",
       "      <td>I didn't hear you come in.</td>\n",
       "      <td>{1.4914770126342773: 72, 0.7293738126754761: 1...</td>\n",
       "      <td>9</td>\n",
       "      <td>0</td>\n",
       "    </tr>\n",
       "    <tr>\n",
       "      <th>1</th>\n",
       "      <td>I didn't hear you come in.</td>\n",
       "      <td>{1.4914770126342773: 72, 0.7293738126754761: 1...</td>\n",
       "      <td>9</td>\n",
       "      <td>0</td>\n",
       "    </tr>\n",
       "    <tr>\n",
       "      <th>2</th>\n",
       "      <td>I didn't hear you come in.</td>\n",
       "      <td>{1.4914770126342773: 72, 0.7293738126754761: 1...</td>\n",
       "      <td>9</td>\n",
       "      <td>0</td>\n",
       "    </tr>\n",
       "    <tr>\n",
       "      <th>3</th>\n",
       "      <td>I didn't hear you come in.</td>\n",
       "      <td>{1.4914770126342773: 72, 0.7293738126754761: 1...</td>\n",
       "      <td>9</td>\n",
       "      <td>0</td>\n",
       "    </tr>\n",
       "    <tr>\n",
       "      <th>4</th>\n",
       "      <td>I didn't hear you come in.</td>\n",
       "      <td>{1.4914770126342773: 72, 0.7293738126754761: 1...</td>\n",
       "      <td>9</td>\n",
       "      <td>0</td>\n",
       "    </tr>\n",
       "  </tbody>\n",
       "</table>\n",
       "</div>"
      ],
      "text/plain": [
       "                   hypothesis  \\\n",
       "0  I didn't hear you come in.   \n",
       "1  I didn't hear you come in.   \n",
       "2  I didn't hear you come in.   \n",
       "3  I didn't hear you come in.   \n",
       "4  I didn't hear you come in.   \n",
       "\n",
       "                                           utilities  count  ref_id  \n",
       "0  {1.4914770126342773: 72, 0.7293738126754761: 1...      9       0  \n",
       "1  {1.4914770126342773: 72, 0.7293738126754761: 1...      9       0  \n",
       "2  {1.4914770126342773: 72, 0.7293738126754761: 1...      9       0  \n",
       "3  {1.4914770126342773: 72, 0.7293738126754761: 1...      9       0  \n",
       "4  {1.4914770126342773: 72, 0.7293738126754761: 1...      9       0  "
      ]
     },
     "execution_count": 177,
     "metadata": {},
     "output_type": "execute_result"
    }
   ],
   "source": [
    "df.head()"
   ]
  },
  {
   "cell_type": "code",
   "execution_count": 178,
   "id": "dd07d490",
   "metadata": {},
   "outputs": [],
   "source": [
    "## Lastly we create the collate fn that looks up the right columns\n",
    "from torch.utils.data import DataLoader\n",
    "import torch\n"
   ]
  },
  {
   "cell_type": "code",
   "execution_count": 179,
   "id": "bbe73e75",
   "metadata": {},
   "outputs": [],
   "source": [
    "new_dataset = Dataset.from_pandas(df)"
   ]
  },
  {
   "cell_type": "code",
   "execution_count": 180,
   "id": "91c07f36",
   "metadata": {},
   "outputs": [],
   "source": [
    "import numpy as np\n",
    "def collate_fn(batch):\n",
    "    \n",
    "    \n",
    "    \n",
    "    # First get the features\n",
    "    ids = [s[\"ref_id\"] for s in batch]\n",
    "    \n",
    "    sources = [s[\"hypothesis\"] for s in batch]\n",
    "    \n",
    "    info = ref_table.take(ids)\n",
    "    \n",
    "    \n",
    "    features = {feature_name: torch.Tensor(np.stack(info[feature_name].to_numpy())) for feature_name in pl_model.feature_names}\n",
    "\n",
    "    return info\n",
    "\n"
   ]
  },
  {
   "cell_type": "code",
   "execution_count": 181,
   "id": "3c94710f",
   "metadata": {},
   "outputs": [],
   "source": [
    " train_dataloader = DataLoader(new_dataset, collate_fn=collate_fn, batch_size=256, shuffle=True, )"
   ]
  },
  {
   "cell_type": "code",
   "execution_count": 183,
   "id": "8a28a183",
   "metadata": {},
   "outputs": [
    {
     "name": "stderr",
     "output_type": "stream",
     "text": [
      "100%|████████████████████████████████████████████████████████████████████████████████| 811/811 [00:14<00:00, 56.85it/s]\n"
     ]
    }
   ],
   "source": [
    "# Takes approximate 2 minutes each epoch\n",
    "from tqdm import tqdm\n",
    "for x in tqdm(train_dataloader):\n",
    "    pass\n",
    "    "
   ]
  },
  {
   "cell_type": "code",
   "execution_count": null,
   "id": "5adf545f",
   "metadata": {},
   "outputs": [],
   "source": [
    "\n",
    "dataset = BayesRiskDataset.load_dataset(base_dir, develop=False)"
   ]
  },
  {
   "cell_type": "code",
   "execution_count": null,
   "id": "2931e398",
   "metadata": {},
   "outputs": [],
   "source": [
    "df = dataset.to_pandas()\n",
    "\n",
    "df = df.reindex(df.index.repeat(df[\"count\"]))"
   ]
  },
  {
   "cell_type": "code",
   "execution_count": null,
   "id": "65ac9dec",
   "metadata": {},
   "outputs": [],
   "source": [
    "dataset = Dataset.from_pandas(df)"
   ]
  },
  {
   "cell_type": "code",
   "execution_count": null,
   "id": "64344f87",
   "metadata": {},
   "outputs": [],
   "source": [
    "# Now without preprocessing:\n",
    "\n",
    "def collate_fn(batch):\n",
    "    \n",
    "    b = {\n",
    "        \"sources\": [s[\"sources\"] for s in batch],\n",
    "        \"hypothesis\": [s[\"hypothesis\"] for s in batch]\n",
    "    }\n",
    "    features = pl_model.preprocess_function(b)\n",
    "\n",
    "    return features\n",
    "\n",
    "train_dataloader = DataLoader(dataset, collate_fn=collate_fn, batch_size=32, shuffle=True, )"
   ]
  },
  {
   "cell_type": "code",
   "execution_count": null,
   "id": "7177e59e",
   "metadata": {},
   "outputs": [],
   "source": [
    "# 4 minutes per loop ! (2 times as slow)\n",
    "from tqdm import tqdm\n",
    "for x in tqdm(train_dataloader):\n",
    "    pass"
   ]
  },
  {
   "cell_type": "code",
   "execution_count": null,
   "id": "e1abb689",
   "metadata": {},
   "outputs": [],
   "source": [
    "# Now without preprocessing:\n",
    "\n",
    "def collate_fn(batch):\n",
    "    \n",
    "    \n",
    "\n",
    "    return 0\n",
    "\n",
    "train_dataloader = DataLoader(dataset, collate_fn=collate_fn, batch_size=256, shuffle=True, )"
   ]
  },
  {
   "cell_type": "code",
   "execution_count": null,
   "id": "3fa379f7",
   "metadata": {},
   "outputs": [],
   "source": [
    "from tqdm import tqdm\n",
    "for x in tqdm(train_dataloader):\n",
    "    pass"
   ]
  },
  {
   "cell_type": "code",
   "execution_count": null,
   "id": "a7bc3847",
   "metadata": {},
   "outputs": [],
   "source": []
  }
 ],
 "metadata": {
  "kernelspec": {
   "display_name": "Python 3 (ipykernel)",
   "language": "python",
   "name": "python3"
  },
  "language_info": {
   "codemirror_mode": {
    "name": "ipython",
    "version": 3
   },
   "file_extension": ".py",
   "mimetype": "text/x-python",
   "name": "python",
   "nbconvert_exporter": "python",
   "pygments_lexer": "ipython3",
   "version": "3.9.7"
  }
 },
 "nbformat": 4,
 "nbformat_minor": 5
}
