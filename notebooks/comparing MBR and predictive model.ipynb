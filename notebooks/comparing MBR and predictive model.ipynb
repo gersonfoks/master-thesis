{
 "cells": [
  {
   "cell_type": "markdown",
   "id": "d0eefec7",
   "metadata": {},
   "source": [
    "In this notebook we will analyse the MBR scores calculated with the monte-carlo estimates and the "
   ]
  }
 ],
 "metadata": {
  "kernelspec": {
   "display_name": "Python 3 (ipykernel)",
   "language": "python",
   "name": "python3"
  },
  "language_info": {
   "codemirror_mode": {
    "name": "ipython",
    "version": 3
   },
   "file_extension": ".py",
   "mimetype": "text/x-python",
   "name": "python",
   "nbconvert_exporter": "python",
   "pygments_lexer": "ipython3",
   "version": "3.9.7"
  }
 },
 "nbformat": 4,
 "nbformat_minor": 5
}
