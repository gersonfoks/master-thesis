{
 "cells": [
  {
   "cell_type": "markdown",
   "id": "13eaabaf",
   "metadata": {},
   "source": [
    "In this notebook we will compare the MBR scores calculated with the monte-carlo estimates and those from the predictive model\n",
    "We will try to analyse failure points and think about how to tackle those.\n",
    "\n"
   ]
  },
  {
   "cell_type": "code",
   "execution_count": 8,
   "id": "b612712d",
   "metadata": {},
   "outputs": [],
   "source": [
    "# Some setup code for imports\n",
    "import os\n",
    "import sys\n",
    "module_path = os.path.abspath(os.path.join('..'))\n",
    "if module_path not in sys.path:\n",
    "    sys.path.append(module_path)\n",
    "\n",
    "from custom_datasets.BayesRiskDatasetLoader import BayesRiskDatasetLoader\n"
   ]
  },
  {
   "cell_type": "code",
   "execution_count": 10,
   "id": "3b53f223",
   "metadata": {},
   "outputs": [],
   "source": [
    "\n",
    "# First we will load the test set with the calculated scores.\n",
    "dataset_loader = BayesRiskDatasetLoader(\"test\", n_hypotheses=100, n_references=1000, sampling_method='ancestral')\n"
   ]
  },
  {
   "cell_type": "code",
   "execution_count": 11,
   "id": "cb05fe07",
   "metadata": {},
   "outputs": [
    {
     "name": "stdout",
     "output_type": "stream",
     "text": [
      "                                                 source  \\\n",
      "0                             Ich denke, Tom mag Maria.   \n",
      "1                 Wir leben alle auf dem Planeten Erde.   \n",
      "2       Hast du daran gedacht, warme Socken anzuziehen?   \n",
      "3       Meine Mama hat zwei Flaschen Apfelsaft gekauft.   \n",
      "4                    Holen Sie sie jetzt gleich herein!   \n",
      "...                                                 ...   \n",
      "4995  Ich empfinde keine persönliche Abneigung gegen...   \n",
      "4996    Es sieht so aus, als ob es bald aufklaren wird.   \n",
      "4997             Ich muss gleich das Badezimmer putzen.   \n",
      "4998      Tom sagte Maria, dass er Elke niedlich finde.   \n",
      "4999  Es ist das erste Mal, dass ich renne, um den Z...   \n",
      "\n",
      "                                                 target  \\\n",
      "0                          I think that Tom likes Mary.   \n",
      "1                          We all live on planet Earth.   \n",
      "2                  Did you remember to wear warm socks?   \n",
      "3             My mum bought two bottles of apple juice.   \n",
      "4                          Have them come in right now.   \n",
      "...                                                 ...   \n",
      "4995        I have no personal hostility to the system.   \n",
      "4996         It looks like it's going to clear up soon.   \n",
      "4997              I must clean the bathroom right away.   \n",
      "4998      Tom told Mary that he thought Alice was cute.   \n",
      "4999  This is the first time I've ever run in order ...   \n",
      "\n",
      "                                             hypotheses  \\\n",
      "0     [I think Tom likes Mary., I think that Tom lik...   \n",
      "1     [We all live on the planet Earth., We all live...   \n",
      "2     [Did you remember to wear warm socks?, Did you...   \n",
      "3     [My mom bought two bottles of apple juice., My...   \n",
      "4     [Now come right in., Get them in now, right aw...   \n",
      "...                                                 ...   \n",
      "4995  [I don't feel personal about the system., I do...   \n",
      "4996  [It seems that it'll clear up soon., It looks ...   \n",
      "4997  [I need to clean the bathroom first., I have a...   \n",
      "4998    [Tom told Mary that he thought Alice was cute.]   \n",
      "4999  [It is the first time I've run to catch the tr...   \n",
      "\n",
      "                                              utilities  \\\n",
      "0     [[1.2427268, 1.1321115, 0.5813839, 0.9784823, ...   \n",
      "1     [[1.2586021, 1.1181772, 0.023831693, 1.0348266...   \n",
      "2     [[1.1982244, 1.0615226, 0.97165954, 1.0298246,...   \n",
      "3     [[1.2582119, 1.1912426, 0.39431518, 0.7686557,...   \n",
      "4     [[-0.11397762, -0.65701103, -0.66144747, 0.144...   \n",
      "...                                                 ...   \n",
      "4995  [[-1.17688, -0.21076657, 0.5942367, 0.34600607...   \n",
      "4996  [[0.9415579, 1.0146749, 0.9991941, 0.9024522, ...   \n",
      "4997  [[0.75763935, 0.6528716, 0.770432, 0.714666, 0...   \n",
      "4998  [[1.1221536, 1.0428916, 0.9875868, 0.7433124, ...   \n",
      "4999  [[0.5813664, 0.7330327, 0.34066767, 0.9859372,...   \n",
      "\n",
      "                                        utilities_count  \\\n",
      "0                              [976, 19, 1, 1, 1, 1, 1]   \n",
      "1     [396, 282, 1, 11, 33, 102, 4, 1, 1, 1, 69, 1, ...   \n",
      "2     [568, 72, 16, 25, 1, 10, 39, 1, 1, 2, 1, 2, 6,...   \n",
      "3     [884, 68, 1, 1, 1, 1, 1, 1, 9, 1, 1, 3, 1, 1, ...   \n",
      "4     [1, 9, 1, 10, 1, 4, 1, 1, 4, 4, 2, 1, 1, 1, 9,...   \n",
      "...                                                 ...   \n",
      "4995  [1, 1, 1, 1, 1, 1, 1, 1, 1, 1, 1, 1, 1, 1, 1, ...   \n",
      "4996  [104, 571, 9, 1, 2, 1, 1, 53, 2, 1, 3, 32, 1, ...   \n",
      "4997  [245, 1, 279, 66, 13, 10, 132, 1, 1, 18, 1, 24...   \n",
      "4998                              [985, 11, 1, 1, 1, 1]   \n",
      "4999  [1, 1, 1, 13, 4, 1, 1, 1, 1, 1, 1, 2, 1, 1, 1,...   \n",
      "\n",
      "                                                  count  \n",
      "0                                         [96, 2, 1, 1]  \n",
      "1     [39, 1, 27, 11, 1, 1, 1, 4, 1, 2, 1, 2, 5, 1, ...  \n",
      "2     [69, 5, 1, 1, 1, 1, 1, 2, 1, 1, 2, 1, 1, 2, 1,...  \n",
      "3                                      [89, 8, 1, 1, 1]  \n",
      "4     [1, 1, 1, 4, 2, 5, 5, 3, 2, 1, 1, 1, 1, 1, 2, ...  \n",
      "...                                                 ...  \n",
      "4995  [5, 4, 1, 1, 1, 1, 1, 1, 1, 1, 1, 1, 1, 1, 1, ...  \n",
      "4996  [2, 56, 1, 4, 5, 1, 9, 1, 1, 4, 1, 1, 1, 1, 1,...  \n",
      "4997  [1, 1, 1, 1, 26, 2, 2, 24, 1, 1, 1, 1, 1, 12, ...  \n",
      "4998                                              [100]  \n",
      "4999  [1, 1, 1, 1, 1, 4, 1, 1, 1, 1, 1, 1, 2, 1, 3, ...  \n",
      "\n",
      "[5000 rows x 6 columns]\n"
     ]
    }
   ],
   "source": [
    "dataset = dataset_loader.load(type=\"pandas\")"
   ]
  },
  {
   "cell_type": "code",
   "execution_count": 31,
   "id": "c113c84a",
   "metadata": {},
   "outputs": [
    {
     "name": "stdout",
     "output_type": "stream",
     "text": [
      "<class 'pandas.core.frame.DataFrame'>\n"
     ]
    }
   ],
   "source": [
    "# We will visualize the scores as\n",
    "\n"
   ]
  },
  {
   "cell_type": "code",
   "execution_count": 19,
   "id": "5485486f",
   "metadata": {},
   "outputs": [],
   "source": [
    "import numpy as np\n",
    "def calculate_mbr_scores(entry, n_references=1000):\n",
    "    scores = []\n",
    "    count = np.sum(entry[\"utilities_count\"])\n",
    "    for hyp, util in zip(entry[\"hypotheses\"], entry[\"utilities\"]):\n",
    "        score = np.sum(util* entry[\"utilities_count\"])/count\n",
    "        scores.append(score)\n",
    "    return scores"
   ]
  },
  {
   "cell_type": "code",
   "execution_count": 22,
   "id": "9893fa84",
   "metadata": {},
   "outputs": [
    {
     "name": "stdout",
     "output_type": "stream",
     "text": [
      "[1.2385324246883391, 1.1187080875039102, 1.022955731332302, -0.11423761802911758]\n"
     ]
    }
   ],
   "source": [
    "\n",
    "scores = calculate_mbr_scores(entry)\n",
    "print(scores)"
   ]
  },
  {
   "cell_type": "code",
   "execution_count": 24,
   "id": "e6191952",
   "metadata": {},
   "outputs": [],
   "source": [
    "import matplotlib.pyplot as plt\n",
    "import numpy as np\n",
    "def visualize_scores(hypotheses, scores):\n",
    "\n",
    "\n",
    "    plt.rcdefaults()\n",
    "    fig, ax = plt.subplots()\n",
    "\n",
    "    \n",
    "    y_pos = np.arange(len(hypotheses))\n",
    "    \n",
    "    \n",
    "\n",
    "    ax.barh(y_pos, scores,align='center')\n",
    "    ax.set_yticks(y_pos, labels=hypotheses)\n",
    "    ax.invert_yaxis()  # labels read top-to-bottom\n",
    "    ax.set_xlabel('MBR scores')\n",
    "    ax.set_title('plotting scores')\n",
    "\n",
    "    plt.show()"
   ]
  },
  {
   "cell_type": "code",
   "execution_count": 25,
   "id": "d4431513",
   "metadata": {},
   "outputs": [
    {
     "data": {
      "image/png": "[encoded data removed]",
      "text/plain": [
       "<Figure size 640x480 with 1 Axes>"
      ]
     },
     "metadata": {},
     "output_type": "display_data"
    }
   ],
   "source": [
    "visualize_scores(entry[\"hypotheses\"], scores)"
   ]
  },
  {
   "cell_type": "code",
   "execution_count": null,
   "id": "bc7355ee",
   "metadata": {},
   "outputs": [],
   "source": [
    "\n",
    "def visualize_scores_compared(hypotheses, scores):\n",
    "\n",
    "\n",
    "    plt.rcdefaults()\n",
    "    fig, ax = plt.subplots()\n",
    "\n",
    "    \n",
    "    y_pos = np.arange(len(hypotheses))\n",
    "    \n",
    "    \n",
    "\n",
    "    ax.barh(y_pos, scores,align='center')\n",
    "    ax.set_yticks(y_pos, labels=hypotheses)\n",
    "    ax.invert_yaxis()  # labels read top-to-bottom\n",
    "    ax.set_xlabel('MBR scores')\n",
    "    ax.set_title('plotting scores')\n",
    "\n",
    "    plt.show()"
   ]
  }
 ],
 "metadata": {
  "kernelspec": {
   "display_name": "Python 3 (ipykernel)",
   "language": "python",
   "name": "python3"
  },
  "language_info": {
   "codemirror_mode": {
    "name": "ipython",
    "version": 3
   },
   "file_extension": ".py",
   "mimetype": "text/x-python",
   "name": "python",
   "nbconvert_exporter": "python",
   "pygments_lexer": "ipython3",
   "version": "3.9.7"
  }
 },
 "nbformat": 4,
 "nbformat_minor": 5
}
